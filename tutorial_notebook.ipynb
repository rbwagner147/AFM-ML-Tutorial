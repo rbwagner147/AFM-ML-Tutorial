{
 "cells": [
  {
   "cell_type": "markdown",
   "id": "23ed9946",
   "metadata": {},
   "source": [
    "# Tutorial\n",
    "--------------------------------------------------------------------------------\n",
    "## Application of Logistic Regression on AFM Data to classify surface contact \n",
    "\n",
    "This is a tutorial showing an example of applying logistic regression on AFM to classify them into two categories based on whether the AFM tip has made contact with the material surface or not.  \n",
    "\n",
    "\n",
    "# Basic Information\n",
    "\n",
    "The source code for this tutorial has been posted on GitHub. \n",
    "The tutorial uses Juypter Notebook for  publishing its documentation. \n",
    "\n",
    "# Prerequisites \n",
    "\n",
    "A GitHub account\n",
    "Anaconda Navigator \n",
    "Python 3.0\n",
    "\n",
    "\n",
    "# Table of Contents\n",
    "\n",
    "## 1. Import Basic Functions\n",
    "## 2. Import Data \n",
    "## 3. Organizing into Directory\n",
    "## 4. Training Logistic Regression\n",
    "## 5. Testing Logistic Regression \n",
    "## 6. Results Visualization  \n",
    "\n",
    "## How to use this Tutorial\n",
    "\n",
    "1. Make sure you have all the required pre-requisities written above.\n",
    "2. Open the README for a basic introduction of the tutorial\n",
    "3. Download the code file from GitHub on your PC\n",
    "4. Read through the code and understand the working of each function. Proper documentation is given to for a detailed explanation. \n",
    "5. Run the code and analyze the results.\n",
    "\n",
    "\n",
    "\n",
    "## Contributing \n",
    "\n",
    "Please feel free to contribute ideas to further improve this tutorial. \n",
    "Pull requests \n",
    "I'll link the \"main fork\" from here.\n",
    "\n",
    "## Author\n",
    "\n",
    "Arjun Gupta (gupta568@purdue.edu)\n",
    "Ryan B Wagner (rbwagner@purdue.edu)\n",
    "\n",
    "\n",
    "\n"
   ]
  },
  {
   "cell_type": "markdown",
   "id": "c6a6d342",
   "metadata": {},
   "source": [
    "# 1. Importing Packages \n",
    "\n",
    "\n",
    "This tutorial requires primarily all the basic functions needed by a mathematical alogrithm. These include the NumPy library, Matplotlib, Panda and Math libraries. Furthemore, the logistic regression tools require the Scikit-Learn library. \n",
    "\n",
    "Scikit Learn brief explanation \n",
    "Igor function explanation - library for importing ibw file format into python dictionary \n",
    "Scipy.inerpolate brief explation \n",
    "\n"
   ]
  },
  {
   "cell_type": "code",
   "execution_count": 1,
   "id": "87a60a69",
   "metadata": {},
   "outputs": [],
   "source": [
    "import matplotlib.pyplot as plt \n",
    "import numpy as np\n",
    "import pandas as pd\n",
    "#import math \n",
    "from sklearn.linear_model import LogisticRegression \n",
    "from sklearn.model_selection import train_test_split\n",
    "#from sklearn.metrics import classification_report, confusion_matrix\n",
    "import scipy.interpolate as interp\n",
    "import igor.binarywave as ibw           # https://pypi.org/project/igor/\n",
    "import glob"
   ]
  },
  {
   "cell_type": "markdown",
   "id": "905abd27",
   "metadata": {},
   "source": [
    "# 2. Reading AFM Dynamic Approach Curve Files \n",
    "\n",
    "AFM Dynamic Curves Brief description \n",
    "We need to import the different classes of data into the code using the glob.glob function. \n",
    "We define a dictionary 'filelist' containing all our input data. \n"
   ]
  },
  {
   "cell_type": "code",
   "execution_count": 2,
   "id": "9023452c",
   "metadata": {},
   "outputs": [],
   "source": [
    "filelist_onsurface = glob.glob('Data\\\\On_Surface\\*.ibw')  \n",
    "filelist_offsurface = glob.glob('Data\\\\Off_Surface\\*.ibw')  \n",
    "filelist_unlabeled = glob.glob('Data\\\\Unlabeled\\*.ibw')\n",
    "\n",
    "\n",
    "filelist = [filelist_onsurface, filelist_offsurface, filelist_unlabeled]\n",
    "\n"
   ]
  },
  {
   "cell_type": "markdown",
   "id": "f2278206",
   "metadata": {},
   "source": [
    "# 3. Organizing Curves into Dictionary \n",
    "\n",
    "A Dictionary is a python structure that stores objects referenced by keys, whee a key is a desciptior that returns a specfic object from the dictionary. \n",
    "\n",
    "Keys are specified in dictionaries to reference specific file names. Here we create two keys: Key 1: whether file is On Surface or Off Surface file, Key 2: Specific file name. This section also creates a key in the dictionary in case one does not already exist. \n",
    "\n",
    "All of this is done to navigate easily through the dictionary and be able to reference a specific object of the dictionary when required. \n",
    "\n"
   ]
  },
  {
   "cell_type": "code",
   "execution_count": 3,
   "id": "d9adac9c",
   "metadata": {},
   "outputs": [],
   "source": [
    "data = {}                                           # Master dictionary \n",
    "\n",
    "for filetype in filelist:         \n",
    "    for file in filetype: \n",
    "        indata = ibw.load(file)                     # Loads data from ibw file into indata \n",
    "        \n",
    "        \n",
    "        key1 = file.split('\\\\')[0]                  # key1 is On or Off surface state \n",
    "        key2 = file.split('\\\\')[1][0:-4]            # key2 is specific file name \n",
    "        \n",
    "        try:                                        # Creates dictionary key if it does not exist \n",
    "            data[key1] \n",
    "        except: \n",
    "            data[key1] = {}            \n",
    "        \n",
    "        try: \n",
    "            data[key1][key2] \n",
    "        except: \n",
    "            data[key1][key2] = {}"
   ]
  },
  {
   "cell_type": "markdown",
   "id": "2b876477",
   "metadata": {},
   "source": [
    "# 4. Visualizing Amplitude vs Z Curves and Phase vs Z Curves \n",
    "\n",
    "Amplitude is the amplitude of the cantilever oscillation\n",
    "Phase is the phase of the cantilever oscillation relative to the peroidic signal used to excite the cantilever \n",
    "Z is the surface displacement ( position of the surface)\n",
    "Helps us plot the input curves to better visualize the shape and patterns of the different classes of data ( On Surface, Off Surface, Unlabeled) \n",
    "Note: There is no steep change in slope of AZ Curves for Off Surface plots i.e no contact whereas there is a sharp dip in AZ Curves of On Surface plots\n"
   ]
  },
  {
   "cell_type": "code",
   "execution_count": 4,
   "id": "99a30c06",
   "metadata": {},
   "outputs": [
    {
     "ename": "KeyError",
     "evalue": "'Off_Surface'",
     "output_type": "error",
     "traceback": [
      "\u001b[1;31m---------------------------------------------------------------------------\u001b[0m",
      "\u001b[1;31mKeyError\u001b[0m                                  Traceback (most recent call last)",
      "\u001b[1;32m~\\AppData\\Local\\Temp/ipykernel_30108/4212886739.py\u001b[0m in \u001b[0;36m<module>\u001b[1;34m\u001b[0m\n\u001b[0;32m      1\u001b[0m \u001b[0mplt\u001b[0m\u001b[1;33m.\u001b[0m\u001b[0mfigure\u001b[0m\u001b[1;33m(\u001b[0m\u001b[1;33m)\u001b[0m            \u001b[1;31m# Plots single curve\u001b[0m\u001b[1;33m\u001b[0m\u001b[1;33m\u001b[0m\u001b[0m\n\u001b[1;32m----> 2\u001b[1;33m \u001b[0mplt\u001b[0m\u001b[1;33m.\u001b[0m\u001b[0mplot\u001b[0m\u001b[1;33m(\u001b[0m\u001b[0mdata\u001b[0m\u001b[1;33m[\u001b[0m\u001b[1;34m'Off_Surface'\u001b[0m\u001b[1;33m]\u001b[0m\u001b[1;33m[\u001b[0m\u001b[1;34m'AZ_0101'\u001b[0m\u001b[1;33m]\u001b[0m\u001b[1;33m[\u001b[0m\u001b[1;34m'ZSnsr'\u001b[0m\u001b[1;33m]\u001b[0m\u001b[1;33m,\u001b[0m\u001b[0mdata\u001b[0m\u001b[1;33m[\u001b[0m\u001b[1;34m'Off_Surface'\u001b[0m\u001b[1;33m]\u001b[0m\u001b[1;33m[\u001b[0m\u001b[1;34m'AZ_0101'\u001b[0m\u001b[1;33m]\u001b[0m\u001b[1;33m[\u001b[0m\u001b[1;34m'Amp'\u001b[0m\u001b[1;33m]\u001b[0m\u001b[1;33m)\u001b[0m\u001b[1;33m\u001b[0m\u001b[1;33m\u001b[0m\u001b[0m\n\u001b[0m\u001b[0;32m      3\u001b[0m \u001b[1;33m\u001b[0m\u001b[0m\n\u001b[0;32m      4\u001b[0m \u001b[0mcount\u001b[0m \u001b[1;33m=\u001b[0m \u001b[1;36m1\u001b[0m\u001b[1;33m\u001b[0m\u001b[1;33m\u001b[0m\u001b[0m\n\u001b[0;32m      5\u001b[0m \u001b[0mplt\u001b[0m\u001b[1;33m.\u001b[0m\u001b[0mfigure\u001b[0m\u001b[1;33m(\u001b[0m\u001b[1;33m)\u001b[0m            \u001b[1;31m# Plots all curves\u001b[0m\u001b[1;33m\u001b[0m\u001b[1;33m\u001b[0m\u001b[0m\n",
      "\u001b[1;31mKeyError\u001b[0m: 'Off_Surface'"
     ]
    },
    {
     "data": {
      "text/plain": [
       "<Figure size 432x288 with 0 Axes>"
      ]
     },
     "metadata": {},
     "output_type": "display_data"
    }
   ],
   "source": [
    "plt.figure()            # Plots single curve \n",
    "plt.plot(data['Off_Surface']['AZ_0101']['ZSnsr'],data['Off_Surface']['AZ_0101']['Amp'])    \n",
    "\n",
    "count = 1 \n",
    "plt.figure()            # Plots all curves \n",
    "for key1 in data.keys(): \n",
    "    plt.subplot(3,1,count)\n",
    "    plt.title(key1)\n",
    "    for key2 in data[key1].keys():\n",
    "        plt.plot(data[key1][key2]['ZSnsr'],data[key1][key2]['Amp']) \n",
    "    count = count + 1\n",
    "\n",
    "plt.tight_layout()"
   ]
  },
  {
   "cell_type": "markdown",
   "id": "10e773aa",
   "metadata": {},
   "source": [
    "# 5. Training Logistic Regression Model \n",
    "\n",
    "We use the Logistic Regression Function in the Scikit Learn Library to train the model. \n",
    "There are two components to training a mode: x_train and y_train. \n",
    "Our choice of descriptors for this code is the Amplitudes. \n",
    "We regularize the Amplitudes using the concept of interpolation. It is important to regularize the number of desctiptors in each curve as each curve has a different number of points and a logistic model can only take one constant number of desciptors into account for prediction. "
   ]
  },
  {
   "cell_type": "code",
   "execution_count": null,
   "id": "6acc392c",
   "metadata": {},
   "outputs": [],
   "source": [
    "model = LogisticRegression(solver='liblinear', random_state=0)\n",
    "\n",
    "x_train = []\n",
    "y_train = []\n",
    "\n",
    "Zpts = 50 \n",
    "for key1 in list(data.keys())[0:2]: \n",
    "    for key2 in data[key1].keys(): \n",
    "        interp_func = interp.interp1d(data[key1][key2]['ZSnsr'] ,data[key1][key2]['Amp']*1e9 )              # Creates interpolation function\n",
    "        Zmin = np.min(data[key1][key2]['ZSnsr'])                        \n",
    "        Zmax = np.max(data[key1][key2]['ZSnsr'])\n",
    "        Zintp = np.linspace(Zmin,Zmax,Zpts)                                                                 # Creates interpolation points\n",
    "        Ampintp = interp_func(Zintp)                                                                        # Does interpolation \n",
    "        if True in np.isnan(Ampintp): \n",
    "            print('Warning: Nan on interp:' + key1 + ', ' + key2)        \n",
    "        else: \n",
    "            x_train.append(Ampintp)                                                                         # Builds xtrain \n",
    "            if key1 == 'On Surface':                                                                        # Builds ytrain \n",
    "                y_train.append(1)\n",
    "            else: \n",
    "                y_train.append(0)\n",
    "\n",
    "   "
   ]
  },
  {
   "cell_type": "markdown",
   "id": "4eaa45b4",
   "metadata": {},
   "source": [
    "# 6. Testing logistical regression model \n",
    "\n",
    "Here we test the trained model over a specific index curve. \n",
    "We interpolate the amplitudes over the curves for regularization. \n",
    "Both the prediction and the true value for the AZ curve are printed. \n"
   ]
  },
  {
   "cell_type": "code",
   "execution_count": null,
   "id": "6613b2b2",
   "metadata": {},
   "outputs": [],
   "source": [
    "test_index = 55                                                                                             # Test index \n",
    "pred_data = model.predict([x_train[test_index]])                                                            # Does test \n",
    "print('Prediction: ', pred_data[0], ', Truth: ', y_train[test_index])\n",
    "\n",
    "key1 = 'Unlabeled'\n",
    "for key2 in data[key1].keys():\n",
    "    interp_func = interp.interp1d(data[key1][key2]['ZSnsr'] ,data[key1][key2]['Amp']*1e9 )              # Creates interpolation function\n",
    "    Zmin = np.min(data[key1][key2]['ZSnsr'])                        \n",
    "    Zmax = np.max(data[key1][key2]['ZSnsr'])\n",
    "    Zintp = np.linspace(Zmin,Zmax,Zpts)                                                                 # Creates interpolation points\n",
    "    Ampintp = interp_func(Zintp) \n",
    "    \n",
    "    pred_data = model.predict([Ampintp])                                                            # Does testing \n",
    "    print(key2, '  Prediction : ', pred_data[0], ', Truth: ')"
   ]
  },
  {
   "cell_type": "markdown",
   "id": "f3891496",
   "metadata": {},
   "source": [
    "# 7. Results Visualization \n",
    "\n",
    "Plots the specific AZ Curve we apply the algorithm on. This makes it much easier for the user to understand the application of the code and easily verify whether the result is right or not. "
   ]
  },
  {
   "cell_type": "code",
   "execution_count": null,
   "id": "7e98ca44",
   "metadata": {},
   "outputs": [],
   "source": [
    "plt.figure()            # Plots single curve \n",
    "plt.plot(data['Unlabeled']['AZ_0000']['ZSnsr'],data['Unlabeled']['AZ_0000']['Amp'])\n",
    "plt.title('Unlabeled AZ curve')\n",
    "plt.xlabel('Z-sensor')\n",
    "plt.ylabel('Amplitude')\n",
    "#plt.ylim([8e-8, 9e-8])"
   ]
  },
  {
   "cell_type": "markdown",
   "id": "54160de6",
   "metadata": {},
   "source": [
    "# 8. Future Improvements\n",
    "\n",
    "This code can be made more accurate through two main methods. \n",
    "1. The desciptors can be changed ( Currently using amplitudes) such that they offer a more accurate prediction of the given data \n",
    "2. The method of regularizing ( currently using interpolation) can be altered to fit the points of each AZ curve better which would make the predictions more accurate. \n",
    "\n",
    "Any further inputs on how to further improve this code are welcome. Please contact the Authors at the emails mentioned in the header. \n",
    "\n",
    "We hope this tutorial was helpful\n",
    "\n",
    "Thank you!"
   ]
  }
 ],
 "metadata": {
  "kernelspec": {
   "display_name": "Python 3 (ipykernel)",
   "language": "python",
   "name": "python3"
  },
  "language_info": {
   "codemirror_mode": {
    "name": "ipython",
    "version": 3
   },
   "file_extension": ".py",
   "mimetype": "text/x-python",
   "name": "python",
   "nbconvert_exporter": "python",
   "pygments_lexer": "ipython3",
   "version": "3.9.7"
  }
 },
 "nbformat": 4,
 "nbformat_minor": 5
}
